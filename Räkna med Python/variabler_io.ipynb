{
 "metadata": {
  "language_info": {
   "codemirror_mode": {
    "name": "ipython",
    "version": 3
   },
   "file_extension": ".py",
   "mimetype": "text/x-python",
   "name": "python",
   "nbconvert_exporter": "python",
   "pygments_lexer": "ipython3",
   "version": "3.8.3-final"
  },
  "orig_nbformat": 2,
  "kernelspec": {
   "name": "python_defaultSpec_1599156882729",
   "display_name": "Python 3.8.3 64-bit"
  }
 },
 "nbformat": 4,
 "nbformat_minor": 2,
 "cells": [
  {
   "cell_type": "markdown",
   "metadata": {},
   "source": [
    "# Tyngdkraft \n",
    "\n",
    "* Fråga användaren om sin vikt\n",
    "* Beräkna tyngdkraften \n"
   ]
  },
  {
   "cell_type": "code",
   "execution_count": null,
   "metadata": {},
   "outputs": [],
   "source": []
  },
  {
   "cell_type": "markdown",
   "metadata": {},
   "source": [
    "# Procent\n",
    "\n",
    "* Fråga användaren om ett decimaltal\n",
    "* Omvandla talet till procent"
   ]
  },
  {
   "cell_type": "code",
   "execution_count": null,
   "metadata": {},
   "outputs": [],
   "source": []
  },
  {
   "cell_type": "markdown",
   "metadata": {},
   "source": [
    "# K $\\rightarrow$ °C\n",
    "\n",
    "* Fråga användaren att ange temperaturen i Kelvin och omvandla till °C"
   ]
  },
  {
   "cell_type": "code",
   "execution_count": null,
   "metadata": {},
   "outputs": [],
   "source": []
  },
  {
   "cell_type": "markdown",
   "metadata": {},
   "source": [
    "# °C $\\rightarrow$ K\n",
    "* Fråga användaren att ange temperaturen i Kelvin och omvandla till °C"
   ]
  },
  {
   "cell_type": "code",
   "execution_count": null,
   "metadata": {},
   "outputs": [],
   "source": []
  },
  {
   "cell_type": "markdown",
   "metadata": {},
   "source": [
    "# Västtrafik \n",
    "\n",
    "Engångsbiljett - 30kr <br>\n",
    "månadskort - 775kr\n",
    "\n",
    "Fråga användaren hur många gånger hen åker med västtrafik. Beräkna totala kostnaden om användaren betalar med engångsbiljetter. \n",
    "\n",
    "Bonus: utöka programmet för att ta reda på om det är värt att köpa månadskort eller inte."
   ]
  },
  {
   "cell_type": "code",
   "execution_count": null,
   "metadata": {},
   "outputs": [],
   "source": []
  }
 ]
}